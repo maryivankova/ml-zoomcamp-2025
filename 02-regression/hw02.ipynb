{
 "cells": [
  {
   "cell_type": "code",
   "execution_count": 2,
   "id": "b536a051-ceda-41b7-b5c9-f2d3d141e6ac",
   "metadata": {},
   "outputs": [],
   "source": [
    "!wget -q https://raw.githubusercontent.com/alexeygrigorev/datasets/master/car_fuel_efficiency.csv -O car_fuel_efficiency.csv"
   ]
  },
  {
   "cell_type": "code",
   "execution_count": 4,
   "id": "9f1c5e36-b389-4e7c-a29d-7a7ecf32b611",
   "metadata": {},
   "outputs": [
    {
     "data": {
      "text/html": [
       "<div>\n",
       "<style scoped>\n",
       "    .dataframe tbody tr th:only-of-type {\n",
       "        vertical-align: middle;\n",
       "    }\n",
       "\n",
       "    .dataframe tbody tr th {\n",
       "        vertical-align: top;\n",
       "    }\n",
       "\n",
       "    .dataframe thead th {\n",
       "        text-align: right;\n",
       "    }\n",
       "</style>\n",
       "<table border=\"1\" class=\"dataframe\">\n",
       "  <thead>\n",
       "    <tr style=\"text-align: right;\">\n",
       "      <th></th>\n",
       "      <th>engine_displacement</th>\n",
       "      <th>num_cylinders</th>\n",
       "      <th>horsepower</th>\n",
       "      <th>vehicle_weight</th>\n",
       "      <th>acceleration</th>\n",
       "      <th>model_year</th>\n",
       "      <th>origin</th>\n",
       "      <th>fuel_type</th>\n",
       "      <th>drivetrain</th>\n",
       "      <th>num_doors</th>\n",
       "      <th>fuel_efficiency_mpg</th>\n",
       "    </tr>\n",
       "  </thead>\n",
       "  <tbody>\n",
       "    <tr>\n",
       "      <th>0</th>\n",
       "      <td>170</td>\n",
       "      <td>3.0</td>\n",
       "      <td>159.0</td>\n",
       "      <td>3413.433759</td>\n",
       "      <td>17.7</td>\n",
       "      <td>2003</td>\n",
       "      <td>Europe</td>\n",
       "      <td>Gasoline</td>\n",
       "      <td>All-wheel drive</td>\n",
       "      <td>0.0</td>\n",
       "      <td>13.231729</td>\n",
       "    </tr>\n",
       "    <tr>\n",
       "      <th>1</th>\n",
       "      <td>130</td>\n",
       "      <td>5.0</td>\n",
       "      <td>97.0</td>\n",
       "      <td>3149.664934</td>\n",
       "      <td>17.8</td>\n",
       "      <td>2007</td>\n",
       "      <td>USA</td>\n",
       "      <td>Gasoline</td>\n",
       "      <td>Front-wheel drive</td>\n",
       "      <td>0.0</td>\n",
       "      <td>13.688217</td>\n",
       "    </tr>\n",
       "    <tr>\n",
       "      <th>2</th>\n",
       "      <td>170</td>\n",
       "      <td>NaN</td>\n",
       "      <td>78.0</td>\n",
       "      <td>3079.038997</td>\n",
       "      <td>15.1</td>\n",
       "      <td>2018</td>\n",
       "      <td>Europe</td>\n",
       "      <td>Gasoline</td>\n",
       "      <td>Front-wheel drive</td>\n",
       "      <td>0.0</td>\n",
       "      <td>14.246341</td>\n",
       "    </tr>\n",
       "    <tr>\n",
       "      <th>3</th>\n",
       "      <td>220</td>\n",
       "      <td>4.0</td>\n",
       "      <td>NaN</td>\n",
       "      <td>2542.392402</td>\n",
       "      <td>20.2</td>\n",
       "      <td>2009</td>\n",
       "      <td>USA</td>\n",
       "      <td>Diesel</td>\n",
       "      <td>All-wheel drive</td>\n",
       "      <td>2.0</td>\n",
       "      <td>16.912736</td>\n",
       "    </tr>\n",
       "    <tr>\n",
       "      <th>4</th>\n",
       "      <td>210</td>\n",
       "      <td>1.0</td>\n",
       "      <td>140.0</td>\n",
       "      <td>3460.870990</td>\n",
       "      <td>14.4</td>\n",
       "      <td>2009</td>\n",
       "      <td>Europe</td>\n",
       "      <td>Gasoline</td>\n",
       "      <td>All-wheel drive</td>\n",
       "      <td>2.0</td>\n",
       "      <td>12.488369</td>\n",
       "    </tr>\n",
       "  </tbody>\n",
       "</table>\n",
       "</div>"
      ],
      "text/plain": [
       "   engine_displacement  num_cylinders  horsepower  vehicle_weight  \\\n",
       "0                  170            3.0       159.0     3413.433759   \n",
       "1                  130            5.0        97.0     3149.664934   \n",
       "2                  170            NaN        78.0     3079.038997   \n",
       "3                  220            4.0         NaN     2542.392402   \n",
       "4                  210            1.0       140.0     3460.870990   \n",
       "\n",
       "   acceleration  model_year  origin fuel_type         drivetrain  num_doors  \\\n",
       "0          17.7        2003  Europe  Gasoline    All-wheel drive        0.0   \n",
       "1          17.8        2007     USA  Gasoline  Front-wheel drive        0.0   \n",
       "2          15.1        2018  Europe  Gasoline  Front-wheel drive        0.0   \n",
       "3          20.2        2009     USA    Diesel    All-wheel drive        2.0   \n",
       "4          14.4        2009  Europe  Gasoline    All-wheel drive        2.0   \n",
       "\n",
       "   fuel_efficiency_mpg  \n",
       "0            13.231729  \n",
       "1            13.688217  \n",
       "2            14.246341  \n",
       "3            16.912736  \n",
       "4            12.488369  "
      ]
     },
     "execution_count": 4,
     "metadata": {},
     "output_type": "execute_result"
    }
   ],
   "source": [
    "import pandas as pd\n",
    "df = pd.read_csv(\"car_fuel_efficiency.csv\")\n",
    "df.head()df = df[['engine_displacement', 'horsepower', 'vehicle_weight', 'model_year', 'fuel_efficiency_mpg']]\n",
    "df.head()\n"
   ]
  },
  {
   "cell_type": "code",
   "execution_count": 5,
   "id": "c2b6f9c5-06e4-404e-957f-299f253b0c79",
   "metadata": {},
   "outputs": [
    {
     "data": {
      "text/html": [
       "<div>\n",
       "<style scoped>\n",
       "    .dataframe tbody tr th:only-of-type {\n",
       "        vertical-align: middle;\n",
       "    }\n",
       "\n",
       "    .dataframe tbody tr th {\n",
       "        vertical-align: top;\n",
       "    }\n",
       "\n",
       "    .dataframe thead th {\n",
       "        text-align: right;\n",
       "    }\n",
       "</style>\n",
       "<table border=\"1\" class=\"dataframe\">\n",
       "  <thead>\n",
       "    <tr style=\"text-align: right;\">\n",
       "      <th></th>\n",
       "      <th>engine_displacement</th>\n",
       "      <th>horsepower</th>\n",
       "      <th>vehicle_weight</th>\n",
       "      <th>model_year</th>\n",
       "      <th>fuel_efficiency_mpg</th>\n",
       "    </tr>\n",
       "  </thead>\n",
       "  <tbody>\n",
       "    <tr>\n",
       "      <th>0</th>\n",
       "      <td>170</td>\n",
       "      <td>159.0</td>\n",
       "      <td>3413.433759</td>\n",
       "      <td>2003</td>\n",
       "      <td>13.231729</td>\n",
       "    </tr>\n",
       "    <tr>\n",
       "      <th>1</th>\n",
       "      <td>130</td>\n",
       "      <td>97.0</td>\n",
       "      <td>3149.664934</td>\n",
       "      <td>2007</td>\n",
       "      <td>13.688217</td>\n",
       "    </tr>\n",
       "    <tr>\n",
       "      <th>2</th>\n",
       "      <td>170</td>\n",
       "      <td>78.0</td>\n",
       "      <td>3079.038997</td>\n",
       "      <td>2018</td>\n",
       "      <td>14.246341</td>\n",
       "    </tr>\n",
       "    <tr>\n",
       "      <th>3</th>\n",
       "      <td>220</td>\n",
       "      <td>NaN</td>\n",
       "      <td>2542.392402</td>\n",
       "      <td>2009</td>\n",
       "      <td>16.912736</td>\n",
       "    </tr>\n",
       "    <tr>\n",
       "      <th>4</th>\n",
       "      <td>210</td>\n",
       "      <td>140.0</td>\n",
       "      <td>3460.870990</td>\n",
       "      <td>2009</td>\n",
       "      <td>12.488369</td>\n",
       "    </tr>\n",
       "  </tbody>\n",
       "</table>\n",
       "</div>"
      ],
      "text/plain": [
       "   engine_displacement  horsepower  vehicle_weight  model_year  \\\n",
       "0                  170       159.0     3413.433759        2003   \n",
       "1                  130        97.0     3149.664934        2007   \n",
       "2                  170        78.0     3079.038997        2018   \n",
       "3                  220         NaN     2542.392402        2009   \n",
       "4                  210       140.0     3460.870990        2009   \n",
       "\n",
       "   fuel_efficiency_mpg  \n",
       "0            13.231729  \n",
       "1            13.688217  \n",
       "2            14.246341  \n",
       "3            16.912736  \n",
       "4            12.488369  "
      ]
     },
     "execution_count": 5,
     "metadata": {},
     "output_type": "execute_result"
    }
   ],
   "source": [
    "df = df[['engine_displacement', 'horsepower', 'vehicle_weight', 'model_year', 'fuel_efficiency_mpg']]\n",
    "df.head()\n"
   ]
  },
  {
   "cell_type": "code",
   "execution_count": 6,
   "id": "e16ce52a-4e6d-4137-b0b6-4a512d902b1c",
   "metadata": {},
   "outputs": [
    {
     "data": {
      "text/plain": [
       "<Axes: >"
      ]
     },
     "execution_count": 6,
     "metadata": {},
     "output_type": "execute_result"
    },
    {
     "data": {
      "image/png": "[encoded data removed]",
      "text/plain": [
       "<Figure size 640x480 with 1 Axes>"
      ]
     },
     "metadata": {},
     "output_type": "display_data"
    }
   ],
   "source": [
    "df['fuel_efficiency_mpg'].hist(bins=30)\n"
   ]
  },
  {
   "cell_type": "code",
   "execution_count": 7,
   "id": "5ced95d3-d21f-483f-9b03-97787fd0bc12",
   "metadata": {},
   "outputs": [
    {
     "data": {
      "text/plain": [
       "engine_displacement      0\n",
       "horsepower             708\n",
       "vehicle_weight           0\n",
       "model_year               0\n",
       "fuel_efficiency_mpg      0\n",
       "dtype: int64"
      ]
     },
     "execution_count": 7,
     "metadata": {},
     "output_type": "execute_result"
    }
   ],
   "source": [
    "df.isnull().sum()\n"
   ]
  },
  {
   "cell_type": "code",
   "execution_count": 8,
   "id": "48e0c700-b230-499e-8801-33a9488238a7",
   "metadata": {},
   "outputs": [
    {
     "data": {
      "text/plain": [
       "149.0"
      ]
     },
     "execution_count": 8,
     "metadata": {},
     "output_type": "execute_result"
    }
   ],
   "source": [
    "df['horsepower'].median()\n"
   ]
  },
  {
   "cell_type": "code",
   "execution_count": 13,
   "id": "1c7d155c-19ea-4fee-8ace-0f784a831a3f",
   "metadata": {
    "scrolled": true
   },
   "outputs": [
    {
     "name": "stdout",
     "output_type": "stream",
     "text": [
      "RMSE (fill 0):    0.52\n",
      "RMSE (fill mean): 0.46\n",
      "Q3 answer: With mean\n"
     ]
    }
   ],
   "source": [
    "import numpy as np\n",
    "import pandas as pd\n",
    "from sklearn.model_selection import train_test_split\n",
    "from sklearn.linear_model import LinearRegression\n",
    "from sklearn.metrics import mean_squared_error\n",
    "\n",
    "# === 1) Загрузка и выбор колонок ===\n",
    "df = pd.read_csv(\"car_fuel_efficiency.csv\")\n",
    "cols = ['engine_displacement','horsepower','vehicle_weight','model_year','fuel_efficiency_mpg']\n",
    "df = df[cols].copy()\n",
    "\n",
    "# признаки и цель\n",
    "X = df[['engine_displacement','horsepower','vehicle_weight','model_year']]\n",
    "y = df['fuel_efficiency_mpg']\n",
    "\n",
    "# === 2) Сплит 60/20/20 с seed=42 ===\n",
    "# сначала отделяем 40% (под val+test)\n",
    "X_train, X_tmp, y_train, y_tmp = train_test_split(X, y, test_size=0.4, random_state=42)\n",
    "# затем половину (20%) на val и половину (20%) на test\n",
    "X_val, X_test, y_val, y_test = train_test_split(X_tmp, y_tmp, test_size=0.5, random_state=42)\n",
    "\n",
    "# удобные хелперы\n",
    "def rmse(y_true, y_pred):\n",
    "    return np.sqrt(mean_squared_error(y_true, y_pred))\n",
    "\n",
    "# === 3A) Вариант: fillna(0) для всех признаков ===\n",
    "X_train_0 = X_train.fillna(0)\n",
    "X_val_0   = X_val.fillna(0)\n",
    "\n",
    "lr0 = LinearRegression()\n",
    "lr0.fit(X_train_0, y_train)\n",
    "rmse_0 = rmse(y_val, lr0.predict(X_val_0))\n",
    "\n",
    "# === 3B) Вариант: fillna(mean) ТОЛЬКО по train, и ТОЛЬКО для horsepower ===\n",
    "hp_mean = X_train['horsepower'].mean()\n",
    "X_train_m = X_train.fillna({'horsepower': hp_mean})\n",
    "X_val_m   = X_val.fillna({'horsepower': hp_mean})\n",
    "\n",
    "lrm = LinearRegression()\n",
    "lrm.fit(X_train_m, y_train)\n",
    "rmse_m = rmse(y_val, lrm.predict(X_val_m))\n",
    "\n",
    "print(\"RMSE (fill 0):   \", round(rmse_0, 2))\n",
    "print(\"RMSE (fill mean):\", round(rmse_m, 2))\n",
    "\n",
    "if abs(rmse_0 - rmse_m) < 1e-12:\n",
    "    print(\"Q3 answer: Both are equally good\")\n",
    "else:\n",
    "    print(\"Q3 answer:\", \"With mean\" if rmse_m < rmse_0 else \"With 0\")\n",
    "\n",
    "\n"
   ]
  },
  {
   "cell_type": "code",
   "execution_count": 14,
   "id": "7ffd9036-8bab-4ee6-bd95-291b7381fc2a",
   "metadata": {},
   "outputs": [
    {
     "name": "stdout",
     "output_type": "stream",
     "text": [
      "Q4 RMSE by r (rounded): {0: np.float64(0.52), 0.01: np.float64(0.52), 0.1: np.float64(0.52), 1: np.float64(0.52), 5: np.float64(0.52), 10: np.float64(0.52), 100: np.float64(0.52)}\n",
      "Q4 best r: 100\n"
     ]
    }
   ],
   "source": [
    "import numpy as np\n",
    "from sklearn.linear_model import Ridge\n",
    "from sklearn.metrics import mean_squared_error\n",
    "\n",
    "def rmse(y_true, y_pred):\n",
    "    return np.sqrt(mean_squared_error(y_true, y_pred))\n",
    "\n",
    "# fillna=0 для train/val\n",
    "X_train_r = X_train.fillna(0)\n",
    "X_val_r   = X_val.fillna(0)\n",
    "\n",
    "candidates = [0, 0.01, 0.1, 1, 5, 10, 100]\n",
    "scores = {}\n",
    "\n",
    "for r in candidates:\n",
    "    if r == 0:\n",
    "        # Ridge(alpha=0) эквивалентен обычной линейной регрессии\n",
    "        from sklearn.linear_model import LinearRegression\n",
    "        model = LinearRegression()\n",
    "    else:\n",
    "        model = Ridge(alpha=r, fit_intercept=True, random_state=42)\n",
    "    model.fit(X_train_r, y_train)\n",
    "    preds = model.predict(X_val_r)\n",
    "    scores[r] = rmse(y_val, preds)\n",
    "\n",
    "# округлённые значения для ответа\n",
    "rounded = {r: round(s, 2) for r, s in scores.items()}\n",
    "best_score = min(scores.values())\n",
    "best_candidates = [r for r, s in scores.items() if abs(s - best_score) < 1e-12]\n",
    "best_r = min(best_candidates)  # при равенстве — меньший r\n",
    "\n",
    "print(\"Q4 RMSE by r (rounded):\", rounded)\n",
    "print(\"Q4 best r:\", best_r)\n"
   ]
  },
  {
   "cell_type": "code",
   "execution_count": 15,
   "id": "8364e116-5638-4829-b709-0315273a7bc4",
   "metadata": {},
   "outputs": [
    {
     "name": "stdout",
     "output_type": "stream",
     "text": [
      "RMSE per seed: [np.float64(0.518), np.float64(0.517), np.float64(0.52), np.float64(0.522), np.float64(0.511), np.float64(0.515), np.float64(0.515), np.float64(0.536), np.float64(0.519), np.float64(0.52)]\n",
      "Standard deviation: 0.006\n"
     ]
    }
   ],
   "source": [
    "import numpy as np\n",
    "from sklearn.model_selection import train_test_split\n",
    "from sklearn.linear_model import LinearRegression\n",
    "from sklearn.metrics import mean_squared_error\n",
    "\n",
    "def rmse(y_true, y_pred):\n",
    "    return np.sqrt(mean_squared_error(y_true, y_pred))\n",
    "\n",
    "rmses = []\n",
    "\n",
    "for seed in range(10):  # seeds 0–9\n",
    "    X_train, X_tmp, y_train, y_tmp = train_test_split(X, y, test_size=0.4, random_state=seed)\n",
    "    X_val, X_test, y_val, y_test = train_test_split(X_tmp, y_tmp, test_size=0.5, random_state=seed)\n",
    "    \n",
    "    X_train_filled = X_train.fillna(0)\n",
    "    X_val_filled = X_val.fillna(0)\n",
    "\n",
    "    model = LinearRegression()\n",
    "    model.fit(X_train_filled, y_train)\n",
    "    y_pred = model.predict(X_val_filled)\n",
    "    \n",
    "    rmses.append(rmse(y_val, y_pred))\n",
    "\n",
    "std = np.std(rmses)\n",
    "print(\"RMSE per seed:\", [round(r, 3) for r in rmses])\n",
    "print(\"Standard deviation:\", round(std, 3))\n"
   ]
  },
  {
   "cell_type": "code",
   "execution_count": 16,
   "id": "137d4aba-86c3-4a5c-99cb-441e00249707",
   "metadata": {},
   "outputs": [
    {
     "name": "stdout",
     "output_type": "stream",
     "text": [
      "Final RMSE on test: 0.521\n"
     ]
    }
   ],
   "source": [
    "from sklearn.model_selection import train_test_split\n",
    "from sklearn.linear_model import Ridge\n",
    "from sklearn.metrics import mean_squared_error\n",
    "import numpy as np\n",
    "\n",
    "def rmse(y_true, y_pred):\n",
    "    return np.sqrt(mean_squared_error(y_true, y_pred))\n",
    "\n",
    "# 1. Новый сплит (seed=9)\n",
    "X_train, X_tmp, y_train, y_tmp = train_test_split(X, y, test_size=0.4, random_state=9)\n",
    "X_val, X_test, y_val, y_test = train_test_split(X_tmp, y_tmp, test_size=0.5, random_state=9)\n",
    "\n",
    "# 2. Объединяем train и val\n",
    "X_full_train = pd.concat([X_train, X_val])\n",
    "y_full_train = pd.concat([y_train, y_val])\n",
    "\n",
    "# 3. Заполняем пропуски нулями\n",
    "X_full_train_filled = X_full_train.fillna(0)\n",
    "X_test_filled = X_test.fillna(0)\n",
    "\n",
    "# 4. Обучаем Ridge-регрессию с r=0.001\n",
    "model = Ridge(alpha=0.001)\n",
    "model.fit(X_full_train_filled, y_full_train)\n",
    "\n",
    "# 5. Считаем RMSE на тесте\n",
    "y_pred_test = model.predict(X_test_filled)\n",
    "rmse_test = rmse(y_test, y_pred_test)\n",
    "\n",
    "print(\"Final RMSE on test:\", round(rmse_test, 3))\n"
   ]
  }
 ],
 "metadata": {
  "kernelspec": {
   "display_name": "Python 3 (ipykernel)",
   "language": "python",
   "name": "python3"
  },
  "language_info": {
   "codemirror_mode": {
    "name": "ipython",
    "version": 3
   },
   "file_extension": ".py",
   "mimetype": "text/x-python",
   "name": "python",
   "nbconvert_exporter": "python",
   "pygments_lexer": "ipython3",
   "version": "3.11.13"
  }
 },
 "nbformat": 4,
 "nbformat_minor": 5
}
