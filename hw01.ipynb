{
 "cells": [
  {
   "cell_type": "code",
   "execution_count": 1,
   "id": "c1c00a96-b5f1-4088-8ee2-e294aa0c5ba0",
   "metadata": {},
   "outputs": [
    {
     "data": {
      "text/plain": [
       "'/home/ivankova/miniconda3/envs/ml-zoomcamp/bin/python'"
      ]
     },
     "execution_count": 1,
     "metadata": {},
     "output_type": "execute_result"
    }
   ],
   "source": [
    "import sys\n",
    "sys.executable\n"
   ]
  },
  {
   "cell_type": "code",
   "execution_count": 2,
   "id": "b21fa69a-87db-4d87-a46f-f7176254a97b",
   "metadata": {},
   "outputs": [
    {
     "data": {
      "text/html": [
       "<div>\n",
       "<style scoped>\n",
       "    .dataframe tbody tr th:only-of-type {\n",
       "        vertical-align: middle;\n",
       "    }\n",
       "\n",
       "    .dataframe tbody tr th {\n",
       "        vertical-align: top;\n",
       "    }\n",
       "\n",
       "    .dataframe thead th {\n",
       "        text-align: right;\n",
       "    }\n",
       "</style>\n",
       "<table border=\"1\" class=\"dataframe\">\n",
       "  <thead>\n",
       "    <tr style=\"text-align: right;\">\n",
       "      <th></th>\n",
       "      <th>engine_displacement</th>\n",
       "      <th>num_cylinders</th>\n",
       "      <th>horsepower</th>\n",
       "      <th>vehicle_weight</th>\n",
       "      <th>acceleration</th>\n",
       "      <th>model_year</th>\n",
       "      <th>origin</th>\n",
       "      <th>fuel_type</th>\n",
       "      <th>drivetrain</th>\n",
       "      <th>num_doors</th>\n",
       "      <th>fuel_efficiency_mpg</th>\n",
       "    </tr>\n",
       "  </thead>\n",
       "  <tbody>\n",
       "    <tr>\n",
       "      <th>0</th>\n",
       "      <td>170</td>\n",
       "      <td>3.0</td>\n",
       "      <td>159.0</td>\n",
       "      <td>3413.433759</td>\n",
       "      <td>17.7</td>\n",
       "      <td>2003</td>\n",
       "      <td>Europe</td>\n",
       "      <td>Gasoline</td>\n",
       "      <td>All-wheel drive</td>\n",
       "      <td>0.0</td>\n",
       "      <td>13.231729</td>\n",
       "    </tr>\n",
       "    <tr>\n",
       "      <th>1</th>\n",
       "      <td>130</td>\n",
       "      <td>5.0</td>\n",
       "      <td>97.0</td>\n",
       "      <td>3149.664934</td>\n",
       "      <td>17.8</td>\n",
       "      <td>2007</td>\n",
       "      <td>USA</td>\n",
       "      <td>Gasoline</td>\n",
       "      <td>Front-wheel drive</td>\n",
       "      <td>0.0</td>\n",
       "      <td>13.688217</td>\n",
       "    </tr>\n",
       "    <tr>\n",
       "      <th>2</th>\n",
       "      <td>170</td>\n",
       "      <td>NaN</td>\n",
       "      <td>78.0</td>\n",
       "      <td>3079.038997</td>\n",
       "      <td>15.1</td>\n",
       "      <td>2018</td>\n",
       "      <td>Europe</td>\n",
       "      <td>Gasoline</td>\n",
       "      <td>Front-wheel drive</td>\n",
       "      <td>0.0</td>\n",
       "      <td>14.246341</td>\n",
       "    </tr>\n",
       "    <tr>\n",
       "      <th>3</th>\n",
       "      <td>220</td>\n",
       "      <td>4.0</td>\n",
       "      <td>NaN</td>\n",
       "      <td>2542.392402</td>\n",
       "      <td>20.2</td>\n",
       "      <td>2009</td>\n",
       "      <td>USA</td>\n",
       "      <td>Diesel</td>\n",
       "      <td>All-wheel drive</td>\n",
       "      <td>2.0</td>\n",
       "      <td>16.912736</td>\n",
       "    </tr>\n",
       "    <tr>\n",
       "      <th>4</th>\n",
       "      <td>210</td>\n",
       "      <td>1.0</td>\n",
       "      <td>140.0</td>\n",
       "      <td>3460.870990</td>\n",
       "      <td>14.4</td>\n",
       "      <td>2009</td>\n",
       "      <td>Europe</td>\n",
       "      <td>Gasoline</td>\n",
       "      <td>All-wheel drive</td>\n",
       "      <td>2.0</td>\n",
       "      <td>12.488369</td>\n",
       "    </tr>\n",
       "  </tbody>\n",
       "</table>\n",
       "</div>"
      ],
      "text/plain": [
       "   engine_displacement  num_cylinders  horsepower  vehicle_weight  \\\n",
       "0                  170            3.0       159.0     3413.433759   \n",
       "1                  130            5.0        97.0     3149.664934   \n",
       "2                  170            NaN        78.0     3079.038997   \n",
       "3                  220            4.0         NaN     2542.392402   \n",
       "4                  210            1.0       140.0     3460.870990   \n",
       "\n",
       "   acceleration  model_year  origin fuel_type         drivetrain  num_doors  \\\n",
       "0          17.7        2003  Europe  Gasoline    All-wheel drive        0.0   \n",
       "1          17.8        2007     USA  Gasoline  Front-wheel drive        0.0   \n",
       "2          15.1        2018  Europe  Gasoline  Front-wheel drive        0.0   \n",
       "3          20.2        2009     USA    Diesel    All-wheel drive        2.0   \n",
       "4          14.4        2009  Europe  Gasoline    All-wheel drive        2.0   \n",
       "\n",
       "   fuel_efficiency_mpg  \n",
       "0            13.231729  \n",
       "1            13.688217  \n",
       "2            14.246341  \n",
       "3            16.912736  \n",
       "4            12.488369  "
      ]
     },
     "execution_count": 2,
     "metadata": {},
     "output_type": "execute_result"
    }
   ],
   "source": [
    "import pandas as pd\n",
    "\n",
    "df = pd.read_csv(\"car_fuel_efficiency.csv\")\n",
    "df.head()          # посмотреть таблицу\n"
   ]
  },
  {
   "cell_type": "code",
   "execution_count": 3,
   "id": "ed74c116-d46f-4818-b143-504513074359",
   "metadata": {},
   "outputs": [
    {
     "data": {
      "text/plain": [
       "'2.3.2'"
      ]
     },
     "execution_count": 3,
     "metadata": {},
     "output_type": "execute_result"
    }
   ],
   "source": [
    "import pandas as pd\n",
    "pd.__version__\n"
   ]
  },
  {
   "cell_type": "code",
   "execution_count": 4,
   "id": "25c542f1-829d-4887-8e28-176268855f8c",
   "metadata": {},
   "outputs": [
    {
     "data": {
      "text/plain": [
       "9704"
      ]
     },
     "execution_count": 4,
     "metadata": {},
     "output_type": "execute_result"
    }
   ],
   "source": [
    "import pandas as pd\n",
    "\n",
    "# Загружаем данные\n",
    "df = pd.read_csv(\"car_fuel_efficiency.csv\")\n",
    "\n",
    "# Количество строк\n",
    "len(df)\n"
   ]
  },
  {
   "cell_type": "code",
   "execution_count": 6,
   "id": "e037a01e-eea6-4cff-9086-7bb91d762f3e",
   "metadata": {},
   "outputs": [
    {
     "data": {
      "text/plain": [
       "2"
      ]
     },
     "execution_count": 6,
     "metadata": {},
     "output_type": "execute_result"
    }
   ],
   "source": [
    "df[\"fuel_type\"].unique()      # посмотрим, какие именно значения встречаются\n",
    "df[\"fuel_type\"].nunique()     # сколько их всего\n"
   ]
  },
  {
   "cell_type": "code",
   "execution_count": 7,
   "id": "a2f0f3a0-bf79-4646-a7e4-d53300755928",
   "metadata": {},
   "outputs": [
    {
     "data": {
      "text/plain": [
       "array(['Gasoline', 'Diesel'], dtype=object)"
      ]
     },
     "execution_count": 7,
     "metadata": {},
     "output_type": "execute_result"
    }
   ],
   "source": [
    "df[\"fuel_type\"].unique()   "
   ]
  },
  {
   "cell_type": "code",
   "execution_count": 13,
   "id": "201be801-236c-4583-9547-cc0d10ea7aa6",
   "metadata": {},
   "outputs": [
    {
     "data": {
      "text/plain": [
       "engine_displacement      0\n",
       "num_cylinders          482\n",
       "horsepower             708\n",
       "vehicle_weight           0\n",
       "acceleration           930\n",
       "model_year               0\n",
       "origin                   0\n",
       "fuel_type                0\n",
       "drivetrain               0\n",
       "num_doors              502\n",
       "fuel_efficiency_mpg      0\n",
       "dtype: int64"
      ]
     },
     "execution_count": 13,
     "metadata": {},
     "output_type": "execute_result"
    }
   ],
   "source": [
    "missing_per_column = df.isna().sum()\n",
    "missing_per_column"
   ]
  },
  {
   "cell_type": "code",
   "execution_count": 14,
   "id": "e40b275e-0bff-43af-98ca-0481b0430aa9",
   "metadata": {},
   "outputs": [
    {
     "data": {
      "text/plain": [
       "23.759122836520497"
      ]
     },
     "execution_count": 14,
     "metadata": {},
     "output_type": "execute_result"
    }
   ],
   "source": [
    "df.loc[df[\"origin\"] == \"Asia\", \"fuel_efficiency_mpg\"].max()"
   ]
  },
  {
   "cell_type": "code",
   "execution_count": 15,
   "id": "24b9b714-2fa3-4dfe-9187-7dcaa7230e06",
   "metadata": {},
   "outputs": [
    {
     "data": {
      "text/plain": [
       "149.0"
      ]
     },
     "execution_count": 15,
     "metadata": {},
     "output_type": "execute_result"
    }
   ],
   "source": [
    "df[\"horsepower\"].median()"
   ]
  },
  {
   "cell_type": "code",
   "execution_count": 16,
   "id": "20820a6a-c7e0-4ae2-b43f-bae4a825c668",
   "metadata": {},
   "outputs": [
    {
     "data": {
      "text/plain": [
       "np.float64(152.0)"
      ]
     },
     "execution_count": 16,
     "metadata": {},
     "output_type": "execute_result"
    }
   ],
   "source": [
    "df[\"horsepower\"].mode()[0]"
   ]
  },
  {
   "cell_type": "code",
   "execution_count": 17,
   "id": "ea420a0c-4c16-4787-8fe4-5934f41bcd26",
   "metadata": {},
   "outputs": [
    {
     "name": "stderr",
     "output_type": "stream",
     "text": [
      "/tmp/ipykernel_339853/1942345368.py:1: FutureWarning: A value is trying to be set on a copy of a DataFrame or Series through chained assignment using an inplace method.\n",
      "The behavior will change in pandas 3.0. This inplace method will never work because the intermediate object on which we are setting values always behaves as a copy.\n",
      "\n",
      "For example, when doing 'df[col].method(value, inplace=True)', try using 'df.method({col: value}, inplace=True)' or df[col] = df[col].method(value) instead, to perform the operation inplace on the original object.\n",
      "\n",
      "\n",
      "  df[\"horsepower\"].fillna(152.0, inplace=True)\n"
     ]
    },
    {
     "data": {
      "text/plain": [
       "152.0"
      ]
     },
     "execution_count": 17,
     "metadata": {},
     "output_type": "execute_result"
    }
   ],
   "source": [
    "df[\"horsepower\"].fillna(152.0, inplace=True)\n",
    "df[\"horsepower\"].median()"
   ]
  },
  {
   "cell_type": "code",
   "execution_count": 18,
   "id": "140b4ffd-f873-4518-8952-35336872fe48",
   "metadata": {},
   "outputs": [
    {
     "data": {
      "text/plain": [
       "(3247,\n",
       "     engine_displacement  num_cylinders  horsepower  vehicle_weight  \\\n",
       " 8                   250            1.0       174.0     2714.219310   \n",
       " 12                  320            5.0       145.0     2783.868974   \n",
       " 14                  200            6.0       160.0     3582.687368   \n",
       " \n",
       "     acceleration  model_year origin fuel_type         drivetrain  num_doors  \\\n",
       " 8           10.3        2016   Asia    Diesel  Front-wheel drive       -1.0   \n",
       " 12          15.1        2010   Asia    Diesel    All-wheel drive        1.0   \n",
       " 14          14.9        2007   Asia    Diesel    All-wheel drive        0.0   \n",
       " \n",
       "     fuel_efficiency_mpg  \n",
       " 8             16.823554  \n",
       " 12            16.175820  \n",
       " 14            11.871091  )"
      ]
     },
     "execution_count": 18,
     "metadata": {},
     "output_type": "execute_result"
    }
   ],
   "source": [
    "import numpy as np\n",
    "\n",
    "asia = df[df[\"origin\"] == \"Asia\"].copy()\n",
    "len(asia), asia.head(3)"
   ]
  },
  {
   "cell_type": "code",
   "execution_count": 19,
   "id": "e13f0f98-9adb-4346-9abf-cee725d2d8f2",
   "metadata": {},
   "outputs": [
    {
     "data": {
      "text/html": [
       "<div>\n",
       "<style scoped>\n",
       "    .dataframe tbody tr th:only-of-type {\n",
       "        vertical-align: middle;\n",
       "    }\n",
       "\n",
       "    .dataframe tbody tr th {\n",
       "        vertical-align: top;\n",
       "    }\n",
       "\n",
       "    .dataframe thead th {\n",
       "        text-align: right;\n",
       "    }\n",
       "</style>\n",
       "<table border=\"1\" class=\"dataframe\">\n",
       "  <thead>\n",
       "    <tr style=\"text-align: right;\">\n",
       "      <th></th>\n",
       "      <th>vehicle_weight</th>\n",
       "      <th>model_year</th>\n",
       "    </tr>\n",
       "  </thead>\n",
       "  <tbody>\n",
       "    <tr>\n",
       "      <th>8</th>\n",
       "      <td>2714.219310</td>\n",
       "      <td>2016</td>\n",
       "    </tr>\n",
       "    <tr>\n",
       "      <th>12</th>\n",
       "      <td>2783.868974</td>\n",
       "      <td>2010</td>\n",
       "    </tr>\n",
       "    <tr>\n",
       "      <th>14</th>\n",
       "      <td>3582.687368</td>\n",
       "      <td>2007</td>\n",
       "    </tr>\n",
       "    <tr>\n",
       "      <th>20</th>\n",
       "      <td>2231.808142</td>\n",
       "      <td>2011</td>\n",
       "    </tr>\n",
       "    <tr>\n",
       "      <th>21</th>\n",
       "      <td>2659.431451</td>\n",
       "      <td>2016</td>\n",
       "    </tr>\n",
       "    <tr>\n",
       "      <th>34</th>\n",
       "      <td>2844.227534</td>\n",
       "      <td>2014</td>\n",
       "    </tr>\n",
       "    <tr>\n",
       "      <th>38</th>\n",
       "      <td>3761.994038</td>\n",
       "      <td>2019</td>\n",
       "    </tr>\n",
       "  </tbody>\n",
       "</table>\n",
       "</div>"
      ],
      "text/plain": [
       "    vehicle_weight  model_year\n",
       "8      2714.219310        2016\n",
       "12     2783.868974        2010\n",
       "14     3582.687368        2007\n",
       "20     2231.808142        2011\n",
       "21     2659.431451        2016\n",
       "34     2844.227534        2014\n",
       "38     3761.994038        2019"
      ]
     },
     "execution_count": 19,
     "metadata": {},
     "output_type": "execute_result"
    }
   ],
   "source": [
    "X_df = asia[[\"vehicle_weight\", \"model_year\"]].head(7)\n",
    "X_df"
   ]
  },
  {
   "cell_type": "code",
   "execution_count": 20,
   "id": "7982e545-2f15-4860-857c-706198067c91",
   "metadata": {},
   "outputs": [
    {
     "data": {
      "text/plain": [
       "((7, 2),\n",
       " array([[2714.21930965, 2016.        ],\n",
       "        [2783.86897424, 2010.        ],\n",
       "        [3582.68736772, 2007.        ]]))"
      ]
     },
     "execution_count": 20,
     "metadata": {},
     "output_type": "execute_result"
    }
   ],
   "source": [
    "X = X_df.values\n",
    "X.shape, X[:3] "
   ]
  },
  {
   "cell_type": "code",
   "execution_count": 21,
   "id": "11dab9a9-3b79-4abc-8bd8-8a3aaad73178",
   "metadata": {},
   "outputs": [
    {
     "data": {
      "text/plain": [
       "(array([[62248334.33150762, 41431216.5073268 ],\n",
       "        [41431216.5073268 , 28373339.        ]]),\n",
       " (2, 2))"
      ]
     },
     "execution_count": 21,
     "metadata": {},
     "output_type": "execute_result"
    }
   ],
   "source": [
    "XTX = X.T @ X\n",
    "XTX, XTX.shape\n"
   ]
  },
  {
   "cell_type": "code",
   "execution_count": 22,
   "id": "b3a864e1-1330-4ee1-8f05-f9503e2c5405",
   "metadata": {},
   "outputs": [
    {
     "data": {
      "text/plain": [
       "array([[ 5.71497081e-07, -8.34509443e-07],\n",
       "       [-8.34509443e-07,  1.25380877e-06]])"
      ]
     },
     "execution_count": 22,
     "metadata": {},
     "output_type": "execute_result"
    }
   ],
   "source": [
    "XTX_inv = np.linalg.inv(XTX)\n",
    "XTX_inv"
   ]
  },
  {
   "cell_type": "code",
   "execution_count": 23,
   "id": "547326f7-8701-4b8e-89fd-9104fde7e359",
   "metadata": {},
   "outputs": [
    {
     "data": {
      "text/plain": [
       "((7,), array([1100, 1300,  800,  900, 1000, 1100, 1200]))"
      ]
     },
     "execution_count": 23,
     "metadata": {},
     "output_type": "execute_result"
    }
   ],
   "source": [
    "y = np.array([1100, 1300, 800, 900, 1000, 1100, 1200])\n",
    "y.shape, y\n"
   ]
  },
  {
   "cell_type": "code",
   "execution_count": 24,
   "id": "3dd693e1-4ad9-41cf-8d7c-290d5e0ac366",
   "metadata": {},
   "outputs": [
    {
     "data": {
      "text/plain": [
       "(array([0.01386421, 0.5049067 ]), (2,))"
      ]
     },
     "execution_count": 24,
     "metadata": {},
     "output_type": "execute_result"
    }
   ],
   "source": [
    "w = XTX_inv @ X.T @ y\n",
    "w, w.shape\n",
    "\n"
   ]
  },
  {
   "cell_type": "code",
   "execution_count": 25,
   "id": "e6bdba5f-0b8d-4c57-8d04-7ce3f2deaa9b",
   "metadata": {},
   "outputs": [
    {
     "data": {
      "text/plain": [
       "np.float64(0.5187709081074007)"
      ]
     },
     "execution_count": 25,
     "metadata": {},
     "output_type": "execute_result"
    }
   ],
   "source": [
    "w.sum()\n"
   ]
  },
  {
   "cell_type": "code",
   "execution_count": null,
   "id": "341742b2-76c0-4b55-84cc-8d95571ee9d8",
   "metadata": {},
   "outputs": [],
   "source": []
  }
 ],
 "metadata": {
  "kernelspec": {
   "display_name": "Python 3 (ipykernel)",
   "language": "python",
   "name": "python3"
  },
  "language_info": {
   "codemirror_mode": {
    "name": "ipython",
    "version": 3
   },
   "file_extension": ".py",
   "mimetype": "text/x-python",
   "name": "python",
   "nbconvert_exporter": "python",
   "pygments_lexer": "ipython3",
   "version": "3.11.13"
  }
 },
 "nbformat": 4,
 "nbformat_minor": 5
}
